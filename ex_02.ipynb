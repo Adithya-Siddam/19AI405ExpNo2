{
  "nbformat": 4,
  "nbformat_minor": 0,
  "metadata": {
    "colab": {
      "provenance": [],
      "authorship_tag": "ABX9TyM/fn2yREIxIYOYIUd1aLhg",
      "include_colab_link": true
    },
    "kernelspec": {
      "name": "python3",
      "display_name": "Python 3"
    },
    "language_info": {
      "name": "python"
    }
  },
  "cells": [
    {
      "cell_type": "markdown",
      "metadata": {
        "id": "view-in-github",
        "colab_type": "text"
      },
      "source": [
        "<a href=\"https://colab.research.google.com/github/Adithya-Siddam/19AI405ExpNo2/blob/main/ex_02.ipynb\" target=\"_parent\"><img src=\"https://colab.research.google.com/assets/colab-badge.svg\" alt=\"Open In Colab\"/></a>"
      ]
    },
    {
      "cell_type": "code",
      "execution_count": 2,
      "metadata": {
        "colab": {
          "base_uri": "https://localhost:8080/"
        },
        "id": "8pzzuPtYaDiV",
        "outputId": "e870d678-8aae-443f-d227-199406411538"
      },
      "outputs": [
        {
          "output_type": "stream",
          "name": "stdout",
          "text": [
            "8 9\n",
            "A B\n",
            "A C\n",
            "B E\n",
            "C D\n",
            "B D\n",
            "C G\n",
            "D F\n",
            "G F\n",
            "F H\n",
            "['A', 'B', 'E', 'D', 'C', 'G', 'F', 'H']\n"
          ]
        }
      ],
      "source": [
        "from collections import defaultdict\n",
        "def dfs(graph,start,visited,path):\n",
        "    path.append(start)\n",
        "    visited[start]=True\n",
        "    for neighbour in graph[start]:\n",
        "        if visited[neighbour]==False:\n",
        "            dfs(graph,neighbour,visited,path)\n",
        "            visited[neighbour]=True\n",
        "    return path\n",
        "graph=defaultdict(list)\n",
        "n,e=map(int,input().split())\n",
        "for i in range(e):\n",
        "    u,v=map(str,input().split())\n",
        "    graph[u].append(v)\n",
        "    graph[v].append(u)\n",
        "#print(graph)\n",
        "start='A'\n",
        "visited=defaultdict(bool)\n",
        "path=[]\n",
        "traversedpath=dfs(graph,start,visited,path)\n",
        "print(traversedpath)"
      ]
    }
  ]
}